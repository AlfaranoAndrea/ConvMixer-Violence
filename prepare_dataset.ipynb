{
  "cells": [
    {
      "cell_type": "code",
      "execution_count": 1,
      "metadata": {
        "id": "JJkm0Ne2Csg_"
      },
      "outputs": [],
      "source": [
        "import os\n",
        "import glob\n",
        "import cv2\n",
        "from tqdm import tqdm\n",
        "import numpy as np\n",
        "import random\n",
        "import shutil\n",
        "from PIL import Image\n",
        "from multiprocessing import Pool"
      ]
    },
    {
      "cell_type": "code",
      "execution_count": 2,
      "metadata": {},
      "outputs": [],
      "source": [
        "#source_path = './UCF101/UCF-101'\n",
        "#output_path = \"UCF101\"\n",
        "source_path = './dataset/RealLifeViolence/dataset'\n",
        "output_path = \"dataset/RealLifeViolence\"\n",
        "dim=(200,200)"
      ]
    },
    {
      "cell_type": "code",
      "execution_count": 3,
      "metadata": {},
      "outputs": [],
      "source": [
        "def arrange_picture(picture: list):\n",
        "\n",
        "    h1= np.hstack(((cv2.resize(picture[0], dim)), (cv2.resize(picture[1], dim)), (cv2.resize(picture[4], dim))))\n",
        "    h2= np.hstack(((cv2.resize(picture[2], dim)), (cv2.resize(picture[3], dim)), (cv2.resize(picture[6], dim))))\n",
        "    h3= np.hstack(((cv2.resize(picture[5], dim)), (cv2.resize(picture[7], dim)), (cv2.resize(picture[8], dim))))\n",
        "    \n",
        "    \n",
        "    \n",
        "    \n",
        "\n",
        "    return np.vstack((h1, h2, h3))\n",
        "\n",
        "def read_video_from_path(path):\n",
        "    vidcap = cv2.VideoCapture(path)\n",
        "    success, image = vidcap.read()\n",
        "    count = 0\n",
        "    picture_list=[]\n",
        "    while success:\n",
        "        if count % 1 == 0:\n",
        "            picture_list.append(image)\n",
        "        success, image = vidcap.read()\n",
        "        count += 1\n",
        "    return picture_list, count "
      ]
    },
    {
      "cell_type": "code",
      "execution_count": 4,
      "metadata": {},
      "outputs": [],
      "source": [
        "def save_to_frame(input_dir,  label,n_superpictures=6 ,n_picture_for_frame=9, name_dataset=\"\"):\n",
        "    id_training=0\n",
        "    id_evaluation=0\n",
        "    paths=glob.glob(input_dir + '/*')\n",
        "    paths.sort()\n",
        "    pbar= tqdm(paths)\n",
        "    for path in pbar:\n",
        "        pbar.set_postfix_str(path)\n",
        "       # print(path)\n",
        "        fname = os.path.basename(path).split('.')[0]\n",
        "        n_total_frames =n_superpictures*n_picture_for_frame\n",
        "      \n",
        "        picture_list, count = read_video_from_path(path)\n",
        "        \n",
        "        pace = int(count/n_total_frames)\n",
        "        index= range(n_total_frames)\n",
        "        index= [value *pace for value in index]\n",
        "        super_images_list=[]\n",
        "        count =0\n",
        "        \n",
        "\n",
        "        if(np.random.uniform(0,1)< 0.8):\n",
        "            split= \"training\" \n",
        "        else:\n",
        "            split= \"evaluation\" \n",
        "        \n",
        "        save_path=f\"{name_dataset}/{split}/{label}\"\n",
        "        os.makedirs(save_path, exist_ok=True)\n",
        "        \n",
        "      #  tqdm.write(path)\n",
        "        #print(path)\n",
        "        for i in index:\n",
        "            super_images_list.append(picture_list[i])\n",
        "            count+=1\n",
        "            if(count== n_picture_for_frame):\n",
        "                results= arrange_picture(super_images_list)\n",
        "                \n",
        "                if(split=='training'):\n",
        "                    final_path= f\"{save_path}/{id_training}.jpg\"\n",
        "                    id_training+=1   \n",
        "                else:\n",
        "                    final_path= f\"{save_path}/{id_evaluation}.jpg\"\n",
        "                    id_evaluation+=1\n",
        "              \n",
        "                cv2.imwrite(final_path, results)\n",
        "                super_images_list=[]\n",
        "                count=0\n"
      ]
    },
    {
      "cell_type": "markdown",
      "metadata": {},
      "source": []
    },
    {
      "cell_type": "code",
      "execution_count": 5,
      "metadata": {},
      "outputs": [
        {
          "name": "stderr",
          "output_type": "stream",
          "text": [
            "100%|██████████| 998/998 [02:05<00:00,  7.97it/s, ./RealLifeViolence/dataset/NonViolence/NV_999.mp4]\n",
            "100%|██████████| 994/994 [02:46<00:00,  5.97it/s, ./RealLifeViolence/dataset/Violence/V_999.mp4]\n",
            "2it [02:46, 83.26s/it] "
          ]
        },
        {
          "name": "stdout",
          "output_type": "stream",
          "text": [
            "processed Violence\n",
            "processed NonViolence\n"
          ]
        },
        {
          "name": "stderr",
          "output_type": "stream",
          "text": [
            "\n"
          ]
        }
      ],
      "source": [
        "\n",
        "labels= os.listdir(source_path)\n",
        "def proced_dataset(label):\n",
        "    input_dir = source_path + \"/\" + label\n",
        "    save_to_frame(input_dir, label ,name_dataset=output_path)\n",
        "    return label\n",
        "\n",
        "with Pool() as pool:\n",
        "    for result in tqdm(pool.imap(proced_dataset, labels)):\n",
        "        print(f\"processed {result}\")"
      ]
    },
    {
      "cell_type": "code",
      "execution_count": 6,
      "metadata": {},
      "outputs": [],
      "source": [
        "\n",
        "# labels= os.listdir(source_path)\n",
        "# def proced_dataset(label):\n",
        "#     input_dir = source_path + \"/\" + label\n",
        "#     save_to_frame(input_dir, label ,name_dataset=output_path)\n",
        "#     return label\n",
        "\n",
        "# for label in labels :\n",
        "#     proced_dataset(label)\n",
        "    "
      ]
    },
    {
      "cell_type": "code",
      "execution_count": null,
      "metadata": {},
      "outputs": [],
      "source": []
    }
  ],
  "metadata": {
    "colab": {
      "provenance": [],
      "toc_visible": true
    },
    "kernelspec": {
      "display_name": "Python 3",
      "language": "python",
      "name": "python3"
    },
    "language_info": {
      "codemirror_mode": {
        "name": "ipython",
        "version": 3
      },
      "file_extension": ".py",
      "mimetype": "text/x-python",
      "name": "python",
      "nbconvert_exporter": "python",
      "pygments_lexer": "ipython3",
      "version": "3.8.10 (default, Nov 14 2022, 12:59:47) \n[GCC 9.4.0]"
    },
    "vscode": {
      "interpreter": {
        "hash": "e7370f93d1d0cde622a1f8e1c04877d8463912d04d973331ad4851f04de6915a"
      }
    }
  },
  "nbformat": 4,
  "nbformat_minor": 0
}
